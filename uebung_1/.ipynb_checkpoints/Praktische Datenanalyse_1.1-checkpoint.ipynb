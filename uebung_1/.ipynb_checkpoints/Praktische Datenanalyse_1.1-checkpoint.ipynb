{
 "cells": [
  {
   "cell_type": "markdown",
   "metadata": {},
   "source": [
    "# Willkommen in Eurem ersten Notebook zur praktischen Datenanalyse"
   ]
  },
  {
   "cell_type": "markdown",
   "metadata": {},
   "source": [
    "In der ersten Übung würde ich Euch gerne mit den Basisfunktionalitäten eines Jupyter Notebooks vertraut machen."
   ]
  },
  {
   "cell_type": "markdown",
   "metadata": {},
   "source": [
    "Aber zuerst einmal die **Packages**, die wir für unsere weitere Erarbeitung brauchen. Eine Code-Zelle kann entweder mit dem Button \"Run\" oder mit der Tastenkombination Shift + Enter ausgeführt werden."
   ]
  },
  {
   "cell_type": "code",
   "execution_count": null,
   "metadata": {},
   "outputs": [],
   "source": [
    "from IPython.display import Image\n",
    "import time, sys"
   ]
  },
  {
   "cell_type": "markdown",
   "metadata": {},
   "source": [
    "Vorab  einmal ein CheatSheet von Edureka, welches ich Euch für die weiteren Erarbeitungen sehr ans Herz legen kann."
   ]
  },
  {
   "cell_type": "code",
   "execution_count": null,
   "metadata": {},
   "outputs": [],
   "source": [
    "Image(\"./src/Jupyter_Notebook_CheatSheet_Edureka.png\")"
   ]
  },
  {
   "cell_type": "markdown",
   "metadata": {},
   "source": [
    "### Keyboard-Navigation\n",
    "\n",
    "Die Benutzeroberfläche des Jupyter Notebooks ist für eine effiziente Tastaturnutzung optimiert. Dies wird dadurch ermöglicht, dass es zwei verschiedene Sätze von Tastaturkürzeln gibt: einen Satz, der im Bearbeitungsmodus aktiv ist, und einen anderen im Befehlsmodus.\n",
    "\n",
    "Die wichtigsten Tastaturkürzel sind Enter, das den Bearbeitungsmodus aktiviert, und Esc, das den Befehlsmodus aktiviert.\n",
    "\n",
    "Im Bearbeitungsmodus ist der größte Teil der Tastatur für die Eingabe in den Editor der Zelle vorgesehen. Daher gibt es im Bearbeitungsmodus relativ wenige Tastenkombinationen. Im Befehlsmodus steht die gesamte Tastatur für Tastenkombinationen zur Verfügung, so dass es viel mehr gibt. Der Dialog Hilfe->Tastaturkurzbefehle listet die verfügbaren Kurzbefehle auf.\n",
    "\n",
    "Grundlegende Navigation: enter, shift-enter, up/k, down/j\n",
    "1. Speichern des Notizbuchs: s\n",
    "2. Zellentypen ändern: y, m, 1-6, t\n",
    "3. Zellenerstellung: a, b\n",
    "4. Zellenbearbeitung: x, c, v, d, zy\n",
    "5. Kerneloperationen: i, 0 (zweimal drücken)"
   ]
  },
  {
   "cell_type": "markdown",
   "metadata": {},
   "source": [
    "### Kernel-Operationen"
   ]
  },
  {
   "cell_type": "markdown",
   "metadata": {},
   "source": [
    "In erster Linie ist das Jupyter Notebook eine interaktive Umgebung zum Schreiben und Ausführen von Code. Das Notebook ist in der Lage, Code in einer breiten Palette von Sprachen auszuführen. Allerdings ist jedes Notebook mit einem **einzigen Kernel** verbunden. Dieses Notebook ist mit dem IPython-Kernel verknüpft, führt also Python-Code aus."
   ]
  },
  {
   "cell_type": "markdown",
   "metadata": {},
   "source": [
    "### Codezellen ermöglichen die Eingabe und Ausführung von Code"
   ]
  },
  {
   "cell_type": "markdown",
   "metadata": {},
   "source": [
    "Führen Sie eine Codezelle aus, indem Sie die **Shift-Enter** drücken oder auf die **Schaltfläche \"Run\"** in der Symbolleiste oben klicken:\n"
   ]
  },
  {
   "cell_type": "code",
   "execution_count": null,
   "metadata": {},
   "outputs": [],
   "source": [
    "a = 10"
   ]
  },
  {
   "cell_type": "code",
   "execution_count": null,
   "metadata": {},
   "outputs": [],
   "source": [
    "print(a)"
   ]
  },
  {
   "cell_type": "markdown",
   "metadata": {},
   "source": [
    "Der Code wird in einem separaten Prozess, dem Kernel, ausgeführt. Der Kernel kann unterbrochen oder neu gestartet werden. Versuchen Sie, die folgende Zelle auszuführen und drücken Sie dann die Schaltfläche in der Symbolleiste oben. Wenn der Kernel abstirbt, werden Sie aufgefordert, ihn neu zu starten."
   ]
  },
  {
   "cell_type": "markdown",
   "metadata": {},
   "source": [
    "### Cell menu\n",
    "Das Menü \"Zelle\" verfügt über eine Reihe von Menüpunkten, um Code auf unterschiedliche Weise auszuführen. Dazu gehören:\n",
    "- Run and Select Below\n",
    "- Run and Insert Below\n",
    "- Run All\n",
    "- Run All Above\n",
    "- Run All Below"
   ]
  },
  {
   "cell_type": "markdown",
   "metadata": {},
   "source": [
    "### Ausgabe ist asynchron\n",
    "Die gesamte Ausgabe wird **asynchron** angezeigt, während sie im Kernel erzeugt wird. Wenn Sie die nächste Zelle ausführen, sehen Sie die Ausgabe Stück für Stück, nicht alle am Ende.\n",
    "\n"
   ]
  },
  {
   "cell_type": "code",
   "execution_count": null,
   "metadata": {},
   "outputs": [],
   "source": [
    "for i in range(8):\n",
    "    print(i)\n",
    "    time.sleep(0.5)"
   ]
  },
  {
   "cell_type": "markdown",
   "metadata": {},
   "source": [
    "Um große Ausgaben besser handhaben zu können, kann der Ausgabebereich eingeklappt werden. Führen Sie die folgende Zelle aus und klicken Sie dann einfach oder doppelt auf den aktiven Bereich links neben dem Ausgang:"
   ]
  },
  {
   "cell_type": "code",
   "execution_count": null,
   "metadata": {
    "scrolled": true
   },
   "outputs": [],
   "source": [
    "for i in range(50):\n",
    "    print(i)"
   ]
  },
  {
   "cell_type": "markdown",
   "metadata": {},
   "source": [
    "### Markdown-Zellen"
   ]
  },
  {
   "cell_type": "markdown",
   "metadata": {},
   "source": [
    "Text kann in Jupyter-Notebooks mithilfe von Markdown-Zellen hinzugefügt werden. Sie können den Zellentyp über das Menü Zelle, die Symbolleiste oder das Tastenkürzel m in Markdown ändern. Markdown ist eine beliebte Auszeichnungssprache, die eine Obermenge von HTML ist. Die Spezifikation finden Ihr hier: https://daringfireball.net/projects/markdown/syntax"
   ]
  },
  {
   "cell_type": "markdown",
   "metadata": {},
   "source": [
    "Sie können Text *kursiv* oder **fett** machen, indem Sie einen Textblock mit einem einfachen bzw. doppelten * umgeben\n",
    "\n",
    "Sie können verschachtelte itemized oder enumarated Listen erstellen:\n",
    "\n",
    "* One\n",
    "    - Sublist\n",
    "        - This\n",
    "  - Sublist\n",
    "        - That\n",
    "        - The other thing\n",
    "* Two\n",
    "  - Sublist\n",
    "* Three\n",
    "  - Sublist\n",
    "\n",
    "Now another list:\n",
    "\n",
    "1. Here we go\n",
    "    1. Sublist\n",
    "    2. Sublist\n",
    "2. There we go\n",
    "3. Now this"
   ]
  },
  {
   "cell_type": "markdown",
   "metadata": {},
   "source": [
    "**Horizontale Linien**:\n",
    "\n",
    "---"
   ]
  },
  {
   "cell_type": "markdown",
   "metadata": {},
   "source": [
    "**Quotes einfügen:**\n",
    "> \"Ich bin ein Berliner\" - United States President John F. Kennedy"
   ]
  },
  {
   "cell_type": "markdown",
   "metadata": {},
   "source": [
    "**Eingebetter Code:**\n",
    "\n",
    "```python\n",
    "    print \"Hello World\"\n",
    "```"
   ]
  },
  {
   "cell_type": "markdown",
   "metadata": {},
   "source": [
    "**HTML-Tabellen**:\n",
    "\n",
    "<table>\n",
    "<tr>\n",
    "<th>Header 1</th>\n",
    "<th>Header 2</th>\n",
    "</tr>\n",
    "<tr>\n",
    "<td>row 1, cell 1</td>\n",
    "<td>row 1, cell 2</td>\n",
    "</tr>\n",
    "<tr>\n",
    "<td>row 2, cell 1</td>\n",
    "<td>row 2, cell 2</td>\n",
    "</tr>\n",
    "</table>"
   ]
  },
  {
   "cell_type": "markdown",
   "metadata": {},
   "source": [
    "#### Darstellung von Formeln mit Hilfe von MathJax-aware (Bestandteil Markdown Parser)"
   ]
  },
  {
   "cell_type": "markdown",
   "metadata": {},
   "source": [
    "Der enthaltene Markdown-Parser ist MathJax-fähig. Das bedeutet, dass mathematische Ausdrücke unter Verwendung der MathJax-Untermenge von Tex und LaTeX frei einmischen können. Anbei ein Beispiel:"
   ]
  },
  {
   "cell_type": "markdown",
   "metadata": {
    "jp-MarkdownHeadingCollapsed": true,
    "tags": []
   },
   "source": [
    "**The probability of getting (k) heads when flipping (n) coins is**\n"
   ]
  },
  {
   "cell_type": "markdown",
   "metadata": {},
   "source": [
    "\\begin{equation*}\n",
    "P(E)   = {n \\choose k} p^k (1-p)^{ n-k} \n",
    "\\end{equation*}"
   ]
  },
  {
   "cell_type": "markdown",
   "metadata": {},
   "source": [
    "Hier auch noch einmal ein CheatSheet von SqlBak.com, welches ich Euch für die weiteren Erarbeitungen auch sehr ans Herz lege."
   ]
  },
  {
   "cell_type": "code",
   "execution_count": null,
   "metadata": {},
   "outputs": [],
   "source": [
    "Image(\"./src/CapJupyter-Notebook-Markdown-Cheatsheet2.png\")"
   ]
  },
  {
   "cell_type": "markdown",
   "metadata": {},
   "source": [
    "### Referenzierung von Python Klassen und Methoden"
   ]
  },
  {
   "cell_type": "markdown",
   "metadata": {},
   "source": [
    "Es gibt auch die Möglichkeit, dass wir Funktionen von anderen Files importieren und verwenden. Hierfür werden wir in unserem Kurs öffter Gebrauch machen, um uns bei der Datenanalyse auf das wesentliche zu funktionieren."
   ]
  },
  {
   "cell_type": "code",
   "execution_count": null,
   "metadata": {},
   "outputs": [],
   "source": [
    "from src.class_example import absolute_value, Bag"
   ]
  },
  {
   "cell_type": "markdown",
   "metadata": {},
   "source": [
    "**Beispiel: Klasse**"
   ]
  },
  {
   "cell_type": "code",
   "execution_count": null,
   "metadata": {},
   "outputs": [],
   "source": [
    "bag_1 = Bag()\n",
    "bag_1.add(1)\n",
    "bag_1.addtwice(2)\n",
    "print(vars(bag_1))"
   ]
  },
  {
   "cell_type": "markdown",
   "metadata": {},
   "source": [
    "**Beispiel: Funktion**"
   ]
  },
  {
   "cell_type": "code",
   "execution_count": null,
   "metadata": {},
   "outputs": [],
   "source": [
    "number = -5\n",
    "absolute_value(number)"
   ]
  },
  {
   "cell_type": "markdown",
   "metadata": {},
   "source": [
    "**Wenn Ihr noch weitere Informationen wollt, die Euch dabei helfen besser mit Jupyter Notebook umzugehen, empfehle ich Euch folgende Links und Materialien:**"
   ]
  },
  {
   "cell_type": "markdown",
   "metadata": {},
   "source": [
    "- Offizielle Beispiel-Notebooks von Jupyter auf GitHub (https://github.com/jupyter/notebook/tree/master/docs/source/examples/Notebook)\n",
    "- Advanced Tutorial von DataQuest (https://www.dataquest.io/blog/jupyter-notebook-tutorial/)\n",
    "- Advanced Tutorial von DataQuest 2 (https://www.dataquest.io/blog/advanced-jupyter-notebooks-tutorial/)\n",
    "- Tipps, Ticks und Shortcuts (https://www.dataquest.io/blog/jupyter-notebook-tips-tricks-shortcuts/)\n",
    "- More advanced functions (https://towardsdatascience.com/bringing-the-best-out-of-jupyter-notebooks-for-data-science-f0871519ca29)"
   ]
  },
  {
   "cell_type": "markdown",
   "metadata": {},
   "source": [
    "## Feedback"
   ]
  },
  {
   "cell_type": "markdown",
   "metadata": {},
   "source": [
    "Wie hast es Euch gefallen? Habt Ihr gerade noch Frage, die ich beantworten/mitnehmen kann?"
   ]
  }
 ],
 "metadata": {
  "kernelspec": {
   "display_name": "Python 3 (ipykernel)",
   "language": "python",
   "name": "python3"
  },
  "language_info": {
   "codemirror_mode": {
    "name": "ipython",
    "version": 3
   },
   "file_extension": ".py",
   "mimetype": "text/x-python",
   "name": "python",
   "nbconvert_exporter": "python",
   "pygments_lexer": "ipython3",
   "version": "3.9.7"
  }
 },
 "nbformat": 4,
 "nbformat_minor": 4
}
